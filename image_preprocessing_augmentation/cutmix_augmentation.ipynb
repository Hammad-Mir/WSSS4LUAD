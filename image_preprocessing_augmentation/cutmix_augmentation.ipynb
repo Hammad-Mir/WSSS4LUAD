{
 "cells": [
  {
   "cell_type": "code",
   "execution_count": 21,
   "metadata": {},
   "outputs": [],
   "source": [
    "import os\n",
    "import cv2\n",
    "import random\n",
    "import numpy as np\n",
    "from matplotlib import pyplot as plt\n",
    "\n",
    "%matplotlib inline"
   ]
  },
  {
   "cell_type": "code",
   "execution_count": 17,
   "metadata": {},
   "outputs": [],
   "source": [
    "np.random.seed(42)"
   ]
  },
  {
   "cell_type": "code",
   "execution_count": 10,
   "metadata": {},
   "outputs": [],
   "source": [
    "source_path = 'C:/Users/hamma/Desktop/NCL/DS/11_FP_D/WSSS4LUAD-20220422T171928Z-001/WSSS4LUAD/1.training/1.training'\n",
    "dest_path = 'C:/Users/hamma/Desktop/NCL/DS/11_FP_D/WSSS4LUAD-20220422T171928Z-001/WSSS4LUAD/cutmix_augmentation'"
   ]
  },
  {
   "cell_type": "code",
   "execution_count": 11,
   "metadata": {},
   "outputs": [],
   "source": [
    "images = os.listdir(source_path)"
   ]
  },
  {
   "cell_type": "code",
   "execution_count": 6,
   "metadata": {},
   "outputs": [
    {
     "name": "stdout",
     "output_type": "stream",
     "text": [
      "1181\n",
      "1680\n",
      "1832\n"
     ]
    }
   ],
   "source": [
    "tumor = [x for x in images if '[1, 0, 0]' in x]\n",
    "stroma = [x for x in images if '[0, 1, 0]' in x]\n",
    "normal = [x for x in images if '[0, 0, 1]' in x]\n",
    "\n",
    "print(len(tumor))\n",
    "print(len(stroma))\n",
    "print(len(normal))"
   ]
  },
  {
   "cell_type": "code",
   "execution_count": 7,
   "metadata": {},
   "outputs": [],
   "source": [
    "np.random.shuffle(tumor)\n",
    "np.random.shuffle(stroma)\n",
    "np.random.shuffle(normal)"
   ]
  },
  {
   "cell_type": "code",
   "execution_count": 8,
   "metadata": {},
   "outputs": [],
   "source": [
    "def rand_bbox(size, lamb):\n",
    "    \"\"\" Generate random bounding box \n",
    "    Args:\n",
    "        - size: [width, breadth] of the bounding box\n",
    "        - lamb: (lambda) cut ratio parameter, sampled from Beta distribution\n",
    "    Returns:\n",
    "        - Bounding box\n",
    "    \"\"\"\n",
    "    W = size[0]\n",
    "    H = size[1]\n",
    "    cut_rat = np.sqrt(1. - lamb)\n",
    "    cut_w = np.int(W * cut_rat)\n",
    "    cut_h = np.int(H * cut_rat)\n",
    "\n",
    "    # uniform\n",
    "    cx = np.random.randint(W)\n",
    "    cy = np.random.randint(H)\n",
    "\n",
    "    bbx1 = np.clip(cx - cut_w // 2, 0, W)\n",
    "    bby1 = np.clip(cy - cut_h // 2, 0, H)\n",
    "    bbx2 = np.clip(cx + cut_w // 2, 0, W)\n",
    "    bby2 = np.clip(cy + cut_h // 2, 0, H)\n",
    "\n",
    "    return bbx1, bby1, bbx2, bby2"
   ]
  },
  {
   "cell_type": "code",
   "execution_count": 18,
   "metadata": {},
   "outputs": [],
   "source": [
    "def generate_cutmix_image(source, dest, image_list_1, image_list_2, num_images = 2000, beta = 1.0):\n",
    "    \"\"\" Generate a CutMix augmented image from a batch \n",
    "    Args:\n",
    "        - image_batch: a batch of input images\n",
    "        - image_batch_labels: labels corresponding to the image batch\n",
    "        - beta: a parameter of Beta distribution.\n",
    "    Returns:\n",
    "        - CutMix image batch, updated labels\n",
    "    \"\"\"\n",
    "    # generate mixed sample\n",
    "    for i in range(num_images):\n",
    "\n",
    "        image_path_1 = source + '/' + image_list_1[np.random.randint(len(image_list_1))]\n",
    "        image_path_2 = source + '/' + image_list_2[np.random.randint(len(image_list_2))]\n",
    "        \n",
    "        lam = np.random.beta(beta, beta)\n",
    "        \n",
    "        img_1 = cv2.resize(cv2.imread(image_path_1), (224,224))\n",
    "        img_2 = cv2.resize(cv2.imread(image_path_2), (224,224))\n",
    "        \n",
    "        bbx1, bby1, bbx2, bby2 = rand_bbox(img_1.shape, lam)\n",
    "        \n",
    "        img = [img_1, img_2]\n",
    "        np.random.shuffle(img)\n",
    "        \n",
    "        img[0][bbx1:bbx2, bby1:bby2] = img[1][bbx1:bbx2, bby1:bby2]\n",
    "        \n",
    "        \n",
    "        label_1 = list(map(int, image_path_1[-13:-4].strip('][').split(', ')))\n",
    "        label_2 = list(map(int, image_path_2[-13:-4].strip('][').split(', ')))\n",
    "\n",
    "        label = list(map(sum, zip(label_1, label_2)))\n",
    "\n",
    "        img_name = str(i).zfill(4) + '-' + str(label) + '.png'\n",
    "        \n",
    "        #print(image_path_1, '\\n', image_path_2, '\\n', label, '\\n', img_name)\n",
    "\n",
    "        cv2.imwrite(dest + '/' + img_name, img[0])"
   ]
  },
  {
   "cell_type": "markdown",
   "metadata": {},
   "source": [
    "Need tumor, normal pairs and stroma and normal pairs"
   ]
  },
  {
   "cell_type": "code",
   "execution_count": 19,
   "metadata": {},
   "outputs": [],
   "source": [
    "generate_cutmix_image(source_path, dest_path, tumor, normal, num_images = 2000, beta = 1.0)"
   ]
  },
  {
   "cell_type": "code",
   "execution_count": 20,
   "metadata": {},
   "outputs": [],
   "source": [
    "generate_cutmix_image(source_path, dest_path, stroma, normal, num_images = 2000, beta = 1.0)"
   ]
  },
  {
   "cell_type": "code",
   "execution_count": 22,
   "metadata": {},
   "outputs": [],
   "source": [
    "b1 = [0, 112, 0, 112]\n",
    "b2 = [0, 112, 112, 224]\n",
    "b3 = [112, 224, 0, 112]\n",
    "b4 = [112, 224, 112, 224]\n",
    "b5 = [56, 168, 56, 168]\n",
    "\n",
    "boxes = [b1, b2, b3, b4, b5]"
   ]
  },
  {
   "cell_type": "code",
   "execution_count": 27,
   "metadata": {},
   "outputs": [
    {
     "name": "stdout",
     "output_type": "stream",
     "text": [
      "[0, 112, 0, 112] [0, 112, 112, 224]\n"
     ]
    }
   ],
   "source": [
    "ba, bb = random.sample(boxes, 2)\n",
    "print(ba, bb)"
   ]
  },
  {
   "cell_type": "code",
   "execution_count": 42,
   "metadata": {},
   "outputs": [
    {
     "data": {
      "text/plain": [
       "[112, 224, 0, 112]"
      ]
     },
     "execution_count": 42,
     "metadata": {},
     "output_type": "execute_result"
    }
   ],
   "source": [
    "random.sample(boxes, 1)[0]"
   ]
  },
  {
   "cell_type": "code",
   "execution_count": 30,
   "metadata": {},
   "outputs": [],
   "source": [
    "def generate_cutmix_image_three(source, dest, image_list_1, image_list_2, image_list_3, boxes, num_images = 2000, beta = 1.0):\n",
    "    \"\"\" Generate a CutMix augmented image from a batch \n",
    "    Args:\n",
    "        - image_batch: a batch of input images\n",
    "        - image_batch_labels: labels corresponding to the image batch\n",
    "        - beta: a parameter of Beta distribution.\n",
    "    Returns:\n",
    "        - CutMix image batch, updated labels\n",
    "    \"\"\"\n",
    "    # generate mixed sample\n",
    "    for i in range(num_images):\n",
    "\n",
    "        image_path_1 = source + '/' + image_list_1[np.random.randint(len(image_list_1))]\n",
    "        image_path_2 = source + '/' + image_list_2[np.random.randint(len(image_list_2))]\n",
    "        image_path_3 = source + '/' + image_list_3[np.random.randint(len(image_list_3))]\n",
    "        \n",
    "        lam = np.random.beta(beta, beta)\n",
    "        \n",
    "        img_1 = cv2.resize(cv2.imread(image_path_1), (224,224))\n",
    "        img_2 = cv2.resize(cv2.imread(image_path_2), (224,224))\n",
    "        img_3 = cv2.resize(cv2.imread(image_path_3), (224,224))\n",
    "        \n",
    "        b1, b2 = random.sample(boxes, 2)\n",
    "        \n",
    "        img = [img_1, img_2, img_3]\n",
    "        np.random.shuffle(img)\n",
    "        \n",
    "        img[0][b1[0]:b1[1], b1[2]:b1[3]] = img[1][b1[0]:b1[1], b1[2]:b1[3]]\n",
    "        img[0][b2[0]:b2[1], b2[2]:b2[3]] = img[2][b2[0]:b2[1], b2[2]:b2[3]]\n",
    "        \n",
    "        \n",
    "        label_1 = list(map(int, image_path_1[-13:-4].strip('][').split(', ')))\n",
    "        label_2 = list(map(int, image_path_2[-13:-4].strip('][').split(', ')))\n",
    "        label_3 = list(map(int, image_path_3[-13:-4].strip('][').split(', ')))\n",
    "\n",
    "        label = list(map(sum, zip(label_1, label_2, label_3)))\n",
    "\n",
    "        img_name = str(i).zfill(4) + '-' + str(label) + '.png'\n",
    "        \n",
    "        #print(image_path_1, '\\n', image_path_2, '\\n', image_path_3, '\\n', label, '\\n', img_name)\n",
    "\n",
    "        cv2.imwrite(dest + '/' + img_name, img[0])"
   ]
  },
  {
   "cell_type": "code",
   "execution_count": 31,
   "metadata": {},
   "outputs": [],
   "source": [
    "generate_cutmix_image_three(source_path, dest_path, tumor, stroma, normal, boxes, num_images = 2000, beta = 1.0)"
   ]
  },
  {
   "cell_type": "code",
   "execution_count": 45,
   "metadata": {},
   "outputs": [],
   "source": [
    "def generate_cutmix_image_two(source, dest, image_list_1, image_list_2, boxes, num_images = 2000, beta = 1.0):\n",
    "    \"\"\" Generate a CutMix augmented image from a batch \n",
    "    Args:\n",
    "        - image_batch: a batch of input images\n",
    "        - image_batch_labels: labels corresponding to the image batch\n",
    "        - beta: a parameter of Beta distribution.\n",
    "    Returns:\n",
    "        - CutMix image batch, updated labels\n",
    "    \"\"\"\n",
    "    # generate mixed sample\n",
    "    for i in range(num_images):\n",
    "\n",
    "        image_path_1 = source + '/' + image_list_1[np.random.randint(len(image_list_1))]\n",
    "        image_path_2 = source + '/' + image_list_2[np.random.randint(len(image_list_2))]\n",
    "        \n",
    "        lam = np.random.beta(beta, beta)\n",
    "        \n",
    "        img_1 = cv2.resize(cv2.imread(image_path_1), (224,224))\n",
    "        img_2 = cv2.resize(cv2.imread(image_path_2), (224,224))\n",
    "        \n",
    "        b1 = random.choice(boxes)\n",
    "        \n",
    "        img = [img_1, img_2]\n",
    "        np.random.shuffle(img)\n",
    "        \n",
    "        img[0][b1[0]:b1[1], b1[2]:b1[3]] = img[1][b1[0]:b1[1], b1[2]:b1[3]]\n",
    "        #img[0][b2[0]:b2[1], b2[2]:b2[3]] = img[2][b2[0]:b2[1], b2[2]:b2[3]]\n",
    "        \n",
    "        \n",
    "        label_1 = list(map(int, image_path_1[-13:-4].strip('][').split(', ')))\n",
    "        label_2 = list(map(int, image_path_2[-13:-4].strip('][').split(', ')))\n",
    "        #label_3 = list(map(int, image_path_3[-13:-4].strip('][').split(', ')))\n",
    "\n",
    "        label = list(map(sum, zip(label_1, label_2)))\n",
    "\n",
    "        img_name = str(i).zfill(4) + '-' + str(label) + '.png'\n",
    "        \n",
    "        #print(image_path_1, '\\n', image_path_2, '\\n', image_path_3, '\\n', label, '\\n', img_name)\n",
    "\n",
    "        cv2.imwrite(dest + '/' + img_name, img[0])"
   ]
  },
  {
   "cell_type": "code",
   "execution_count": 46,
   "metadata": {},
   "outputs": [],
   "source": [
    "generate_cutmix_image_two(source_path, dest_path, tumor, normal, boxes, num_images = 2000, beta = 1.0)"
   ]
  },
  {
   "cell_type": "code",
   "execution_count": 47,
   "metadata": {},
   "outputs": [],
   "source": [
    "generate_cutmix_image_two(source_path, dest_path, stroma, normal, boxes, num_images = 2000, beta = 1.0)"
   ]
  }
 ],
 "metadata": {
  "kernelspec": {
   "display_name": "Python 3.8.6 64-bit",
   "language": "python",
   "name": "python3"
  },
  "language_info": {
   "codemirror_mode": {
    "name": "ipython",
    "version": 3
   },
   "file_extension": ".py",
   "mimetype": "text/x-python",
   "name": "python",
   "nbconvert_exporter": "python",
   "pygments_lexer": "ipython3",
   "version": "3.8.6"
  },
  "orig_nbformat": 4,
  "vscode": {
   "interpreter": {
    "hash": "321a108bce31143c0b4654f0e493c95f70da76dcd36cf5d04a19a84c287a7a67"
   }
  }
 },
 "nbformat": 4,
 "nbformat_minor": 2
}
