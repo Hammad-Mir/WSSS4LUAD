{
 "cells": [
  {
   "cell_type": "code",
   "execution_count": 1,
   "metadata": {},
   "outputs": [],
   "source": [
    "import os\n",
    "import cv2\n",
    "import numpy as np\n",
    "from tqdm.auto import tqdm\n",
    "import matplotlib.pyplot as plt\n",
    "\n",
    "import timm\n",
    "import torch\n",
    "import torchvision\n",
    "import torchsummary\n",
    "from torch import nn\n",
    "from torch.optim import Adam\n",
    "from torchvision import transforms, utils\n",
    "\n",
    "from pytorch_grad_cam.utils.image import show_cam_on_image\n",
    "from pytorch_grad_cam.utils.model_targets import ClassifierOutputTarget\n",
    "from pytorch_grad_cam import GradCAM, ScoreCAM, GradCAMPlusPlus, AblationCAM, XGradCAM, EigenCAM, EigenGradCAM, LayerCAM, FullGrad\n",
    "\n",
    "%matplotlib inline"
   ]
  },
  {
   "cell_type": "code",
   "execution_count": 2,
   "metadata": {},
   "outputs": [
    {
     "data": {
      "text/plain": [
       "'cpu'"
      ]
     },
     "execution_count": 2,
     "metadata": {},
     "output_type": "execute_result"
    }
   ],
   "source": [
    "device = 'cuda:0' if torch.cuda.is_available() else 'cpu'\n",
    "device"
   ]
  },
  {
   "cell_type": "markdown",
   "metadata": {},
   "source": [
    "# Image Paths"
   ]
  },
  {
   "cell_type": "code",
   "execution_count": 3,
   "metadata": {},
   "outputs": [],
   "source": [
    "training_images = '/home/zephyr/Desktop/Newcastle_University/11_FP_D/Dataset/Dataset/1.training/1.training'\n",
    "training_pseudo_labels = '/home/zephyr/Desktop/Newcastle_University/11_FP_D/Dataset/Dataset/1.training/1.training_pseudo_labels'\n",
    "\n",
    "cutmix_images = '/home/zephyr/Desktop/Newcastle_University/11_FP_D/Dataset/Dataset/cutmix_augmentation'\n",
    "cutmix_pseudo_labels = '/home/zephyr/Desktop/Newcastle_University/11_FP_D/Dataset/Dataset/cutmix_augmentation_pseudo_labels'\n",
    "\n",
    "bordered_images = '/home/zephyr/Desktop/Newcastle_University/11_FP_D/Dataset/data_border_constant'\n",
    "bordered_pseudo_labels = '/home/zephyr/Desktop/Newcastle_University/11_FP_D/Dataset/data_border_constant_pseudo_labels'\n",
    "\n",
    "reflected_images = '/home/zephyr/Desktop/Newcastle_University/11_FP_D/Dataset/data_border_reflect'\n",
    "reflected_pseudo_labels = '/home/zephyr/Desktop/Newcastle_University/11_FP_D/Dataset/data_border_reflect_pseudo_labels'"
   ]
  },
  {
   "cell_type": "code",
   "execution_count": 4,
   "metadata": {
    "executionInfo": {
     "elapsed": 376,
     "status": "ok",
     "timestamp": 1656697695957,
     "user": {
      "displayName": "Hammad Mir",
      "userId": "08149221475031683519"
     },
     "user_tz": -60
    },
    "id": "ad7SYIoCBhPD"
   },
   "outputs": [],
   "source": [
    "def preprocess_image(img: np.ndarray, mean=[0.485, 0.456, 0.406], std=[0.229, 0.224, 0.225], resized = (224, 224)) -> torch.Tensor:\n",
    "  \n",
    "  preprocessing = transforms.Compose([\n",
    "                                      transforms.ToTensor(),\n",
    "                                      transforms.Resize((224, 224)),\n",
    "                                      transforms.Normalize(mean, std),\n",
    "                                      ])\n",
    "  return preprocessing(img.copy()).unsqueeze(0)\n"
   ]
  },
  {
   "cell_type": "code",
   "execution_count": 5,
   "metadata": {
    "executionInfo": {
     "elapsed": 11,
     "status": "ok",
     "timestamp": 1656697702100,
     "user": {
      "displayName": "Hammad Mir",
      "userId": "08149221475031683519"
     },
     "user_tz": -60
    },
    "id": "i-awtWSeoCLz"
   },
   "outputs": [],
   "source": [
    "def reshape_transform(tensor, height=14, width=14):\n",
    "  result = tensor[:, 1 :  , :].reshape(tensor.size(0),\n",
    "                                       height, width, tensor.size(2))\n",
    "  \n",
    "  # Bring the channels to the first dimension,\n",
    "  # like in CNNs.\n",
    "  result = result.transpose(2, 3).transpose(1, 2)\n",
    "  return result"
   ]
  },
  {
   "cell_type": "markdown",
   "metadata": {},
   "source": [
    "# Setting up model for pseudo label generation"
   ]
  },
  {
   "cell_type": "code",
   "execution_count": 6,
   "metadata": {},
   "outputs": [
    {
     "data": {
      "text/plain": [
       "<All keys matched successfully>"
      ]
     },
     "execution_count": 6,
     "metadata": {},
     "output_type": "execute_result"
    }
   ],
   "source": [
    "model_vit_base_patch16_224 = timm.create_model('vit_base_patch16_224', pretrained = True, num_classes = 3,\n",
    "                                               drop_rate = 0.2, attn_drop_rate = 0.2).to(device)\n",
    "\n",
    "model_vit_base_patch16_224.load_state_dict(torch.load(f='/home/zephyr/Desktop/Newcastle_University/11_FP_D/Models/model_vit_base_patch16_224_1.pth', map_location=device))"
   ]
  },
  {
   "cell_type": "code",
   "execution_count": 7,
   "metadata": {},
   "outputs": [
    {
     "data": {
      "text/plain": [
       "[LayerNorm((768,), eps=1e-06, elementwise_affine=True)]"
      ]
     },
     "execution_count": 7,
     "metadata": {},
     "output_type": "execute_result"
    }
   ],
   "source": [
    "target_layer = [model_vit_base_patch16_224.blocks[-1].norm1]\n",
    "target_layer"
   ]
  },
  {
   "cell_type": "code",
   "execution_count": 8,
   "metadata": {},
   "outputs": [],
   "source": [
    "cam = GradCAM(model = model_vit_base_patch16_224, target_layers=target_layer, reshape_transform=reshape_transform)"
   ]
  },
  {
   "cell_type": "markdown",
   "metadata": {},
   "source": [
    "# Function to load images, create pseudo labels, and save them to the location"
   ]
  },
  {
   "cell_type": "code",
   "execution_count": 22,
   "metadata": {},
   "outputs": [],
   "source": [
    "# function that loads images from a directory generates cam for them and saves them to a directory\n",
    "def generate_pseudo_labels(images_dir, pseudo_labels_dir, model):\n",
    "    for image_name in tqdm(os.listdir(images_dir)):\n",
    "        image_path = os.path.join(images_dir, image_name)\n",
    "        image = cv2.resize(cv2.imread(image_path), (224, 224))\n",
    "        image = preprocess_image(image)\n",
    "        image = image.to(device)\n",
    "        #print(image_name)\n",
    "        label = list(map(int, image_name[-13:-4].strip('][').split(', ')))\n",
    "        \n",
    "        pseudo_label = np.zeros((224, 224, 3))\n",
    "        \n",
    "        cam_0 = cam(input_tensor=image, targets=[ClassifierOutputTarget(np.array([0]))])[0, :]\n",
    "        if label[0] == 1:\n",
    "            pseudo_label[:, :, 0] = mask_threshold(cam_0)\n",
    "        cam_1 = cam(input_tensor=image, targets=[ClassifierOutputTarget(np.array([1]))])[0, :]\n",
    "        if label[1] == 1:\n",
    "            pseudo_label[:, :, 1] = mask_threshold(cam_1)\n",
    "        cam_2 = cam(input_tensor=image, targets=[ClassifierOutputTarget(np.array([2]))])[0, :]\n",
    "        if label[2] == 1:\n",
    "            pseudo_label[:, :, 2] = mask_threshold(cam_2)\n",
    "        \n",
    "        pseudo_label_path = os.path.join(pseudo_labels_dir, image_name)\n",
    "        pseudo_label = pseudo_label\n",
    "        \n",
    "        cv2.imwrite(os.path.join(pseudo_labels_dir, image_name), pseudo_label*255)    # on loading the mask from the directory, normalize by dividing by 255 to get binary mask\n",
    "        #print(f'{image_name} done')"
   ]
  },
  {
   "cell_type": "code",
   "execution_count": 22,
   "metadata": {},
   "outputs": [],
   "source": [
    "def mask_threshold(mask):\n",
    "    v = np.concatenate(mask)\n",
    "    t = v.mean()\n",
    "    d = np.inf\n",
    "    ds = 0.005\n",
    "    while d > ds:\n",
    "        g1 = v[v>t]\n",
    "        g2 = v[v<=t]\n",
    "        m1 = g1.mean()\n",
    "        m2 = g2.mean()\n",
    "        tp = (m1 + m2)/2\n",
    "        d = np.abs(t - tp)\n",
    "        t = tp\n",
    "        #print(t)\n",
    "\n",
    "    imt = mask > t\n",
    "\n",
    "    return imt"
   ]
  },
  {
   "cell_type": "code",
   "execution_count": 25,
   "metadata": {},
   "outputs": [
    {
     "data": {
      "application/vnd.jupyter.widget-view+json": {
       "model_id": "a7c3ed36b4714a89983059ba0eec4b79",
       "version_major": 2,
       "version_minor": 0
      },
      "text/plain": [
       "  0%|          | 0/10091 [00:00<?, ?it/s]"
      ]
     },
     "metadata": {},
     "output_type": "display_data"
    },
    {
     "name": "stdout",
     "output_type": "stream",
     "text": [
      "1222870-17531-5689-[0, 0, 1].png\n"
     ]
    }
   ],
   "source": [
    "generate_pseudo_labels(bordered_images, bordered_pseudo_labels, model_vit_base_patch16_224, cam)"
   ]
  },
  {
   "cell_type": "code",
   "execution_count": 9,
   "metadata": {},
   "outputs": [],
   "source": [
    "image_names = os.listdir(training_images)"
   ]
  },
  {
   "cell_type": "code",
   "execution_count": 13,
   "metadata": {},
   "outputs": [
    {
     "data": {
      "text/plain": [
       "'TCGA-99-7458-01A-01-BS1-9748-11548-[1, 1, 0].png'"
      ]
     },
     "execution_count": 13,
     "metadata": {},
     "output_type": "execute_result"
    }
   ],
   "source": [
    "img = image_names[np.random.randint(0, len(image_names))]\n",
    "img"
   ]
  },
  {
   "cell_type": "code",
   "execution_count": 23,
   "metadata": {},
   "outputs": [
    {
     "name": "stdout",
     "output_type": "stream",
     "text": [
      "[1, 1, 0]\n"
     ]
    },
    {
     "name": "stderr",
     "output_type": "stream",
     "text": [
      "/tmp/ipykernel_6655/3965795295.py:9: RuntimeWarning: Mean of empty slice.\n",
      "  m1 = g1.mean()\n",
      "/home/zephyr/.local/lib/python3.10/site-packages/numpy/core/_methods.py:189: RuntimeWarning: invalid value encountered in true_divide\n",
      "  ret = ret.dtype.type(ret / rcount)\n"
     ]
    }
   ],
   "source": [
    "image_path = os.path.join(training_images, img)\n",
    "image = cv2.resize(cv2.imread(image_path), (224, 224))\n",
    "image = preprocess_image(image)\n",
    "image = image.to(device)\n",
    "#print(image_name)\n",
    "label = list(map(int, img[-13:-4].strip('][').split(', ')))\n",
    "print(label)\n",
    "\n",
    "pseudo_label = np.zeros((224, 224, 3))\n",
    "\n",
    "cam_0 = cam(input_tensor=image, targets=[ClassifierOutputTarget(np.array([0]))])[0, :]\n",
    "if label[0] == 1:\n",
    "    pseudo_label[:, :, 0] = mask_threshold(cam_0)\n",
    "cam_1 = cam(input_tensor=image, targets=[ClassifierOutputTarget(np.array([1]))])[0, :]\n",
    "if label[1] == 1:\n",
    "    pseudo_label[:, :, 1] = mask_threshold(cam_1)\n",
    "cam_2 = cam(input_tensor=image, targets=[ClassifierOutputTarget(np.array([2]))])[0, :]\n",
    "if label[2] == 1:\n",
    "    pseudo_label[:, :, 2] = mask_threshold(cam_2)\n",
    "\n",
    "#pseudo_label_path = os.path.join(pseudo_labels_dir, image_name)\n",
    "pseudo_label = pseudo_label"
   ]
  },
  {
   "cell_type": "code",
   "execution_count": 24,
   "metadata": {},
   "outputs": [
    {
     "data": {
      "text/plain": [
       "<matplotlib.image.AxesImage at 0x7f5b8e5602b0>"
      ]
     },
     "execution_count": 24,
     "metadata": {},
     "output_type": "execute_result"
    },
    {
     "data": {
      "image/png": "[encoded data removed]",
      "text/plain": [
       "<Figure size 432x288 with 1 Axes>"
      ]
     },
     "metadata": {
      "needs_background": "light"
     },
     "output_type": "display_data"
    }
   ],
   "source": [
    "plt.imshow(mask_threshold(cam_0))"
   ]
  },
  {
   "cell_type": "code",
   "execution_count": null,
   "metadata": {},
   "outputs": [],
   "source": []
  },
  {
   "cell_type": "code",
   "execution_count": null,
   "metadata": {},
   "outputs": [],
   "source": []
  }
 ],
 "metadata": {
  "kernelspec": {
   "display_name": "Python 3.10.4 64-bit",
   "language": "python",
   "name": "python3"
  },
  "language_info": {
   "codemirror_mode": {
    "name": "ipython",
    "version": 3
   },
   "file_extension": ".py",
   "mimetype": "text/x-python",
   "name": "python",
   "nbconvert_exporter": "python",
   "pygments_lexer": "ipython3",
   "version": "3.10.4"
  },
  "orig_nbformat": 4,
  "vscode": {
   "interpreter": {
    "hash": "31f2aee4e71d21fbe5cf8b01ff0e069b9275f58929596ceb00d14d90e3e16cd6"
   }
  }
 },
 "nbformat": 4,
 "nbformat_minor": 2
}
