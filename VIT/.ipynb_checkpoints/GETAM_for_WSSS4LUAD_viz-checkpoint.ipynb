{
 "cells": [
  {
   "cell_type": "code",
   "execution_count": null,
   "metadata": {
    "colab": {
     "base_uri": "https://localhost:8080/"
    },
    "id": "6T1fnBr90DNI",
    "outputId": "483d6109-a269-445e-f927-9bd0a7b435ac"
   },
   "outputs": [
    {
     "name": "stdout",
     "output_type": "stream",
     "text": [
      "/content\n"
     ]
    }
   ],
   "source": [
    "!cd ..\n",
    "!pwd"
   ]
  },
  {
   "cell_type": "code",
   "execution_count": null,
   "metadata": {
    "id": "6DtpfMa9iMqA"
   },
   "outputs": [],
   "source": [
    "%%capture\n",
    "!rm -r GETAM\n",
    "!git clone https://github.com/Hammad-Mir/GETAM"
   ]
  },
  {
   "cell_type": "code",
   "execution_count": null,
   "metadata": {
    "id": "_WUviH07hqdX"
   },
   "outputs": [],
   "source": [
    "%%capture\n",
    "! pip install timm"
   ]
  },
  {
   "cell_type": "code",
   "execution_count": null,
   "metadata": {
    "id": "WEbP9SZ7e3KW"
   },
   "outputs": [],
   "source": [
    "%%capture\n",
    "!pip install git+https://github.com/lucasb-eyer/pydensecrf.git"
   ]
  },
  {
   "cell_type": "code",
   "execution_count": null,
   "metadata": {
    "colab": {
     "base_uri": "https://localhost:8080/"
    },
    "id": "NOuLHvOKfe6V",
    "outputId": "3c2f3010-bb81-401d-a106-6a9494c17e70"
   },
   "outputs": [
    {
     "name": "stdout",
     "output_type": "stream",
     "text": [
      "/content\n"
     ]
    }
   ],
   "source": [
    "! pwd"
   ]
  },
  {
   "cell_type": "code",
   "execution_count": null,
   "metadata": {
    "id": "VI5i9neY7def"
   },
   "outputs": [],
   "source": [
    "import os\n",
    "import cv2\n",
    "import tarfile\n",
    "import numpy as np\n",
    "import pandas as pd\n",
    "from math import ceil\n",
    "from time import time\n",
    "from tqdm.auto import tqdm\n",
    "import multiprocessing as mp\n",
    "from matplotlib import pyplot as plt\n",
    "from sklearn.metrics import accuracy_score\n",
    "from sklearn.model_selection import train_test_split\n",
    "\n",
    "import timm\n",
    "import torch\n",
    "import torchvision\n",
    "import torchsummary\n",
    "from torch import nn\n",
    "from torch.optim import Adam\n",
    "import torch.nn.functional as F\n",
    "from torchvision import transforms, utils\n",
    "from torch.utils.data import Dataset, DataLoader\n",
    "#from torch.utils.tensorboard import SummaryWriter\n",
    "\n",
    "\n",
    "\n",
    "%matplotlib inline"
   ]
  },
  {
   "cell_type": "code",
   "execution_count": null,
   "metadata": {
    "id": "LbfxivwXiWGK"
   },
   "outputs": [],
   "source": [
    "os.chdir(f'./GETAM')"
   ]
  },
  {
   "cell_type": "code",
   "execution_count": null,
   "metadata": {
    "id": "USLkRz-lejH1"
   },
   "outputs": [],
   "source": [
    "import myTool as mytool\n",
    "#from DenseEnergyLoss import DenseEnergyLoss\n",
    "from DPT.DPT import DPT, DPTSegmentationModel\n",
    "from tool import pyutils, imutils, torchutils\n",
    "from myTool import compute_joint_loss, compute_seg_label_3, validation"
   ]
  },
  {
   "cell_type": "code",
   "execution_count": null,
   "metadata": {
    "colab": {
     "base_uri": "https://localhost:8080/"
    },
    "id": "NA5GSIukhuLX",
    "outputId": "d411c9e0-90a2-4755-eed7-de736221fcce"
   },
   "outputs": [
    {
     "data": {
      "text/plain": [
       "<torch._C.Generator at 0x7f7fc1fd1c10>"
      ]
     },
     "execution_count": 9,
     "metadata": {},
     "output_type": "execute_result"
    }
   ],
   "source": [
    "np.random.seed(42)\n",
    "torch.manual_seed(42)"
   ]
  },
  {
   "cell_type": "markdown",
   "metadata": {
    "id": "o1UJCcWcJ-bC"
   },
   "source": [
    "# Setting up GPU"
   ]
  },
  {
   "cell_type": "code",
   "execution_count": null,
   "metadata": {
    "colab": {
     "base_uri": "https://localhost:8080/",
     "height": 39
    },
    "id": "vr7vJu9CmRKD",
    "outputId": "3d688065-426e-4e43-dbc3-d6d2812ba49d"
   },
   "outputs": [
    {
     "data": {
      "application/vnd.google.colaboratory.intrinsic+json": {
       "type": "string"
      },
      "text/plain": [
       "'cuda:0'"
      ]
     },
     "execution_count": 10,
     "metadata": {},
     "output_type": "execute_result"
    }
   ],
   "source": [
    "device = 'cuda:0' if torch.cuda.is_available() else 'cpu'\n",
    "device"
   ]
  },
  {
   "cell_type": "markdown",
   "metadata": {
    "id": "yhoZpZEPb7_I"
   },
   "source": [
    "# Test images\n"
   ]
  },
  {
   "cell_type": "code",
   "execution_count": null,
   "metadata": {
    "id": "yCepElGYNOkH"
   },
   "outputs": [],
   "source": [
    "test_image_path_1  = '/content/drive/MyDrive/Newcastle_University/Final_Project_Dissertation/Viz_Test_Images/436219-7159-48057-[1, 0, 0].png'\n",
    "#test_image_path_2  = '/content/drive/MyDrive/Newcastle_University/Final_Project_Dissertation/Viz_Test_Images/439448-38035-50808-[0, 1, 0].png'\n",
    "valid_image_path   = '/content/drive/MyDrive/Newcastle_University/Final_Project_Dissertation/Viz_Test_Images/00.png'\n",
    "valid_mask_path    = '/content/drive/MyDrive/Newcastle_University/Final_Project_Dissertation/Viz_Test_Images/00_1.png'"
   ]
  },
  {
   "cell_type": "code",
   "execution_count": null,
   "metadata": {
    "id": "4dAovDlkTnV3"
   },
   "outputs": [],
   "source": [
    "test_image_1  = cv2.resize(cv2.imread(test_image_path_1), (224, 224))\n",
    "#test_image_2  = cv2.resize(cv2.imread(test_image_path_2), (224, 224))\n",
    "valid_image = cv2.resize(cv2.imread(valid_image_path), (224, 224))\n",
    "valid_mask  = cv2.resize(cv2.imread(valid_mask_path), (224, 224))"
   ]
  },
  {
   "cell_type": "code",
   "execution_count": null,
   "metadata": {
    "id": "onFXTIuAYU15"
   },
   "outputs": [],
   "source": [
    "fig = plt.figure(figsize=(10, 10))\n",
    "\n",
    "ax = fig.add_subplot(1, 3, 1)\n",
    "plt.imshow(test_image_1)\n",
    "\n",
    "ax = fig.add_subplot(1, 3, 2)\n",
    "plt.imshow(valid_image)\n",
    "\n",
    "ax = fig.add_subplot(1, 3, 3)\n",
    "plt.imshow(cv2.cvtColor(valid_mask, cv2.COLOR_BGR2RGB))"
   ]
  },
  {
   "cell_type": "code",
   "execution_count": null,
   "metadata": {
    "id": "xewkWvR3TnYr"
   },
   "outputs": [],
   "source": [
    "def preprocess_image(img: np.ndarray, mean=[0.5, 0.5, 0.5], std=[0.5, 0.5, 0.5], resized = (224, 224)) -> torch.Tensor:\n",
    "  \n",
    "  preprocessing = transforms.Compose([\n",
    "                                      transforms.ToTensor(),\n",
    "                                      transforms.Resize((224, 224)),\n",
    "                                      transforms.Normalize([0.485, 0.456, 0.406], [0.229, 0.224, 0.225]),\n",
    "                                      ])\n",
    "  return preprocessing(img.copy()).unsqueeze(0)"
   ]
  },
  {
   "cell_type": "code",
   "execution_count": null,
   "metadata": {
    "id": "6oXrCKMsTp7d"
   },
   "outputs": [],
   "source": [
    "def reshape_transform(tensor, height=14, width=14):\n",
    "  result = tensor[:, 1 :  , :].reshape(tensor.size(0),\n",
    "                                       height, width, tensor.size(2))\n",
    "  \n",
    "  # Bring the channels to the first dimension,\n",
    "  # like in CNNs.\n",
    "  result = result.transpose(2, 3).transpose(1, 2)\n",
    "  return result"
   ]
  },
  {
   "cell_type": "code",
   "execution_count": null,
   "metadata": {
    "id": "Iqd8KX-8Yb_m"
   },
   "outputs": [],
   "source": [
    "def show_mask_on_image(img, mask):\n",
    "    img = np.float32(img) / 255\n",
    "    mask = cv2.resize(mask, (224, 224))\n",
    "    heatmap = cv2.applyColorMap(np.uint8(255 * mask), cv2.COLORMAP_JET)\n",
    "    heatmap = np.float32(heatmap) / 255\n",
    "    cam = heatmap + np.float32(img)\n",
    "    cam = cam / np.max(cam)\n",
    "    return np.uint8(255 * cam)"
   ]
  },
  {
   "cell_type": "markdown",
   "metadata": {
    "id": "TZjdFcRAiIad"
   },
   "source": [
    "# Creating the Model"
   ]
  },
  {
   "cell_type": "code",
   "execution_count": null,
   "metadata": {
    "colab": {
     "base_uri": "https://localhost:8080/"
    },
    "id": "z9niB8DE9s9c",
    "outputId": "1a53e6ba-cf23-469c-b47f-48aed3ebb9f6"
   },
   "outputs": [
    {
     "name": "stdout",
     "output_type": "stream",
     "text": [
      "cur_backbone: vitb16_224\n"
     ]
    }
   ],
   "source": [
    "GETAM_model = DPTSegmentationModel(num_classes=3, backbone_name='vitb16_224').to(device)\n",
    "GETAM_model.load_state_dict(torch.load(f='/content/drive/MyDrive/Newcastle_University/Final_Project_Dissertation/Models/border_cutmix_GETAM.pth',\n",
    "                                       map_location=torch.device(device)))"
   ]
  },
  {
   "cell_type": "code",
   "execution_count": null,
   "metadata": {
    "id": "Pfpa1vhW5F2w"
   },
   "outputs": [],
   "source": [
    "GETAM_model"
   ]
  },
  {
   "cell_type": "code",
   "execution_count": null,
   "metadata": {
    "id": "TZ9ND6Bs5IX5"
   },
   "outputs": [],
   "source": [
    "torch.summary(GETAM_model, (3, 224, 224))"
   ]
  },
  {
   "cell_type": "markdown",
   "metadata": {
    "id": "s505Kqhw5Xkj"
   },
   "source": [
    "# Generating Image CAMs"
   ]
  },
  {
   "cell_type": "code",
   "execution_count": null,
   "metadata": {
    "id": "Y-kfG5mW5cU4"
   },
   "outputs": [],
   "source": []
  }
 ],
 "metadata": {
  "accelerator": "GPU",
  "colab": {
   "collapsed_sections": [
    "kVN9NdjyKKY4",
    "i4oDnmfyywWx",
    "TZjdFcRAiIad",
    "2K0ptWT8ndS-"
   ],
   "name": "GETAM for WSSS4LUAD viz.ipynb",
   "provenance": []
  },
  "gpuClass": "standard",
  "kernelspec": {
   "display_name": "Python 3 (ipykernel)",
   "language": "python",
   "name": "python3"
  },
  "language_info": {
   "codemirror_mode": {
    "name": "ipython",
    "version": 3
   },
   "file_extension": ".py",
   "mimetype": "text/x-python",
   "name": "python",
   "nbconvert_exporter": "python",
   "pygments_lexer": "ipython3",
   "version": "3.10.4"
  }
 },
 "nbformat": 4,
 "nbformat_minor": 1
}
